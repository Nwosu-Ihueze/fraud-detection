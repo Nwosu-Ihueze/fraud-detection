{
  "nbformat": 4,
  "nbformat_minor": 0,
  "metadata": {
    "colab": {
      "name": "Copy of SOM.ipynb",
      "provenance": [],
      "collapsed_sections": [],
      "toc_visible": true
    },
    "kernelspec": {
      "name": "python3",
      "display_name": "Python 3"
    }
  },
  "cells": [
    {
      "cell_type": "markdown",
      "metadata": {
        "id": "t9oX7AL3nyLm"
      },
      "source": [
        "#Self Organizing Map"
      ]
    },
    {
      "cell_type": "markdown",
      "metadata": {
        "id": "r9maNhdd65pB"
      },
      "source": [
        "##Install MiniSom Package"
      ]
    },
    {
      "cell_type": "markdown",
      "metadata": {
        "id": "6AX0Y23PnyOI"
      },
      "source": [
        "### Importing the libraries\n"
      ]
    },
    {
      "cell_type": "code",
      "metadata": {
        "id": "JJwbXS3ArjkA"
      },
      "source": [
        "import numpy as np\n",
        "import matplotlib.pyplot as plt\n",
        "import pandas as pd"
      ],
      "execution_count": null,
      "outputs": []
    },
    {
      "cell_type": "markdown",
      "metadata": {
        "id": "SCl7ERn_n539"
      },
      "source": [
        "## Importing the dataset"
      ]
    },
    {
      "cell_type": "code",
      "metadata": {
        "id": "esuqqaSSs2FV"
      },
      "source": [
        "dataset = pd.read_csv('Credit_Card_Applications.csv')\n",
        "X = dataset.iloc[:, :-1].values\n",
        "y = dataset.iloc[:, -1].values"
      ],
      "execution_count": null,
      "outputs": []
    },
    {
      "cell_type": "markdown",
      "metadata": {
        "id": "fYHJ0dd6n-d4"
      },
      "source": [
        "## Feature Scaling\n"
      ]
    },
    {
      "cell_type": "code",
      "metadata": {
        "id": "TK0Ln-0Yu1X7"
      },
      "source": [
        "from sklearn.preprocessing import MinMaxScaler\n",
        "sc = MinMaxScaler(feature_range = (0, 1))\n",
        "X = sc.fit_transform(X)"
      ],
      "execution_count": null,
      "outputs": []
    },
    {
      "cell_type": "markdown",
      "metadata": {
        "id": "aPp-7wfNoAhR"
      },
      "source": [
        "##Training the SOM\n"
      ]
    },
    {
      "cell_type": "code",
      "metadata": {
        "id": "rzC6wQmpxK1g"
      },
      "source": [
        "from minisom import MiniSom\n",
        "som = MiniSom(x = 10, y = 10, input_len =15, sigma = 1.0, learning_rate = 0.5)\n",
        "som.random_weights_init(X)\n",
        "som.train_random(data = X, num_iteration = 100)"
      ],
      "execution_count": null,
      "outputs": []
    },
    {
      "cell_type": "markdown",
      "metadata": {
        "id": "YiU27C-ToCnH"
      },
      "source": [
        "##Visualizing the results\n"
      ]
    },
    {
      "cell_type": "code",
      "metadata": {
        "colab": {
          "base_uri": "https://localhost:8080/",
          "height": 269
        },
        "id": "YrCCbQhuyFml",
        "outputId": "c7f63f31-e86e-4bbc-92eb-b951a8c6a38f"
      },
      "source": [
        "from pylab import bone, pcolor, colorbar, plot, show\n",
        "bone()\n",
        "pcolor(som.distance_map().T)\n",
        "colorbar()\n",
        "markers = ['o', 's']\n",
        "colors = ['r', 'g']\n",
        "for i, x in enumerate(X):\n",
        "  w = som.winner(x)\n",
        "  plot (w[0] + 0.5,\n",
        "        w[1] + 0.5,\n",
        "        markers[y[i]],\n",
        "        markeredgecolor = colors[y[i]],\n",
        "        markerfacecolor = 'None',\n",
        "        markersize = 10,\n",
        "        markeredgewidth = 2)\n",
        "show()"
      ],
      "execution_count": null,
      "outputs": [
        {
          "output_type": "display_data",
          "data": {
            "image/png": "[encoded data removed]",
            "text/plain": [
              "<Figure size 432x288 with 2 Axes>"
            ]
          },
          "metadata": {
            "tags": [],
            "needs_background": "light"
          }
        }
      ]
    },
    {
      "cell_type": "markdown",
      "metadata": {
        "id": "4C-I_jBfoEkP"
      },
      "source": [
        "## Finding the frauds\n"
      ]
    },
    {
      "cell_type": "code",
      "metadata": {
        "id": "kpFt6Ewg0bjg"
      },
      "source": [
        "mappings = som.win_map(X)\n",
        "frauds = np.concatenate((mappings[(4,6)], mappings[(7,2)]), axis = 0)\n",
        "frauds = sc.inverse_transform(frauds)"
      ],
      "execution_count": 19,
      "outputs": []
    }
  ]
}